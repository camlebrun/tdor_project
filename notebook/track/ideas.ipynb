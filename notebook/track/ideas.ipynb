{
 "cells": [
  {
   "cell_type": "code",
   "execution_count": null,
   "metadata": {},
   "outputs": [],
   "source": [
    "import numpy as np \n",
    "import pandas as pd\n",
    "import matplotlib.pyplot as plt\n",
    "import datetime\n",
    "import seaborn as sns\n",
    "df = pd.read_csv('/Users/camille/repo/projet_perso/queer_project/Dataset/tdor_export.csv')\n",
    "df[\"Birthdate\"] = pd.to_datetime(df[\"Birthdate\"])\n",
    "df[\"Date\"] = pd.to_datetime(df[\"Date\"])\n",
    "df[\"year\"] = df[\"Date\"].dt.year\n",
    "df[\"nb_victims_year\"] = df.groupby('year').year.transform(\"count\")\n",
    "df[\"nb_victims_country\"] = df.groupby('Country').Country.transform(\"count\")\n",
    "df[\"nb_victims_country_year\"] = df.groupby(['Country', 'year']).year.transform(\"count\")\n",
    "df[\"nb_victims_Category_year\"] = df.groupby(['Category', 'year']).year.transform(\"count\")\n",
    "#df[\"nb_victims_Category_year\"] = df.groupby(['Category', 'year']).year.transform(\"count\") = suicide "
   ]
  },
  {
   "cell_type": "code",
   "execution_count": null,
   "metadata": {},
   "outputs": [],
   "source": [
    "#sns.set_theme()\n",
    "sns.set(rc={'figure.figsize':(15,6)})\n",
    "sns.lineplot(data=df, x=\"year\", y=\"nb_victims_year\")\n"
   ]
  },
  {
   "cell_type": "code",
   "execution_count": null,
   "metadata": {},
   "outputs": [],
   "source": [
    "sns.barplot(data=df,\n",
    "     x=\"Country\",\n",
    "     y=\"nb_victims_country\",\n",
    "     order=df[\"Country\"].value_counts().iloc[:3].index)"
   ]
  },
  {
   "cell_type": "code",
   "execution_count": null,
   "metadata": {},
   "outputs": [],
   "source": [
    "plt_1 = plt.figure(figsize=(15, 6))\n",
    "plt.plot(df.year, df.nb_victims_year)\n",
    "plt.show()"
   ]
  },
  {
   "cell_type": "code",
   "execution_count": null,
   "metadata": {},
   "outputs": [],
   "source": [
    "plt_2 = plt.figure(figsize=(30, 6))\n",
    "plt.bar(df.Country, df.nb_victims_country)\n",
    "plt.xticks(rotation=45)\n",
    "plt.show()"
   ]
  },
  {
   "cell_type": "code",
   "execution_count": null,
   "metadata": {},
   "outputs": [],
   "source": [
    "a =df.pivot_table(index= \"year\",\n",
    "    columns=  \"Category\",\n",
    "    values= \"nb_victims_Category_year\",\n",
    "    fill_value=0)\n",
    "s"
   ]
  },
  {
   "cell_type": "code",
   "execution_count": null,
   "metadata": {},
   "outputs": [],
   "source": [
    "nb_victims_Category_year = sns.heatmap(a,cmap=\"Reds\") #barplot ou heatmap"
   ]
  },
  {
   "cell_type": "markdown",
   "metadata": {},
   "source": [
    "Requetes"
   ]
  },
  {
   "cell_type": "code",
   "execution_count": null,
   "metadata": {},
   "outputs": [],
   "source": [
    "x  = int(input (\"Enter year: \"))\n",
    "request = (df[\"year\"]==x).sum()\n",
    "print(request)"
   ]
  },
  {
   "cell_type": "code",
   "execution_count": null,
   "metadata": {},
   "outputs": [],
   "source": [
    "country  = input (\"Enter a country: \")\n",
    "request = (df[\"Country\"]==country).sum()\n",
    "print(request)"
   ]
  }
 ],
 "metadata": {
  "kernelspec": {
   "display_name": "Python 3.10.2 ('notebook_env')",
   "language": "python",
   "name": "python3"
  },
  "language_info": {
   "name": "python",
   "version": "3.10.2"
  },
  "orig_nbformat": 4,
  "vscode": {
   "interpreter": {
    "hash": "41fba93d83b61576bfa0d097f4901b85ad577ef97b7c4e28015daf92554e79fa"
   }
  }
 },
 "nbformat": 4,
 "nbformat_minor": 2
}
