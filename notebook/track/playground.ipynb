{
 "cells": [
  {
   "cell_type": "code",
   "execution_count": 30,
   "metadata": {},
   "outputs": [],
   "source": [
    "import numpy as np \n",
    "import pandas as pd\n",
    "import datetime\n",
    "import plotly.express as px\n",
    "import seaborn as sns\n",
    "paths = \"/Users/camille/repo/projet_perso/queer_project/notebook/track/tdor_data.csv\"\n",
    "tdor_data = pd.read_csv(paths)\n",
    "tdor_data.drop(['Unnamed: 0'], axis=1, inplace=True)\n"
   ]
  },
  {
   "cell_type": "code",
   "execution_count": 14,
   "metadata": {},
   "outputs": [],
   "source": []
  },
  {
   "cell_type": "code",
   "execution_count": 31,
   "metadata": {},
   "outputs": [
    {
     "data": {
      "text/html": [
       "<div>\n",
       "<style scoped>\n",
       "    .dataframe tbody tr th:only-of-type {\n",
       "        vertical-align: middle;\n",
       "    }\n",
       "\n",
       "    .dataframe tbody tr th {\n",
       "        vertical-align: top;\n",
       "    }\n",
       "\n",
       "    .dataframe thead th {\n",
       "        text-align: right;\n",
       "    }\n",
       "</style>\n",
       "<table border=\"1\" class=\"dataframe\">\n",
       "  <thead>\n",
       "    <tr style=\"text-align: right;\">\n",
       "      <th></th>\n",
       "      <th>Name</th>\n",
       "      <th>Birthdate</th>\n",
       "      <th>Date</th>\n",
       "      <th>Location</th>\n",
       "      <th>Country</th>\n",
       "      <th>Country_Code</th>\n",
       "      <th>Latitude</th>\n",
       "      <th>Longitude</th>\n",
       "      <th>Category</th>\n",
       "      <th>Cause_of_the_death</th>\n",
       "      <th>year</th>\n",
       "      <th>nb_victims_year</th>\n",
       "      <th>nb_victims_country</th>\n",
       "      <th>nb_victims_country_year</th>\n",
       "      <th>nb_victims_Category_year</th>\n",
       "      <th>nb_victims_cause_year</th>\n",
       "      <th>year_birthdays</th>\n",
       "      <th>age</th>\n",
       "      <th>percentage_category</th>\n",
       "    </tr>\n",
       "  </thead>\n",
       "  <tbody>\n",
       "    <tr>\n",
       "      <th>0</th>\n",
       "      <td>Rita Hester</td>\n",
       "      <td>1963-11-30</td>\n",
       "      <td>1998-11-28</td>\n",
       "      <td>Boston, Massachusetts</td>\n",
       "      <td>USA</td>\n",
       "      <td>Us</td>\n",
       "      <td>42.358894</td>\n",
       "      <td>-71.056742</td>\n",
       "      <td>Violence</td>\n",
       "      <td>Stabbed</td>\n",
       "      <td>1998</td>\n",
       "      <td>1</td>\n",
       "      <td>604</td>\n",
       "      <td>1</td>\n",
       "      <td>1</td>\n",
       "      <td>1</td>\n",
       "      <td>1963.0</td>\n",
       "      <td>35.0</td>\n",
       "      <td>100.0</td>\n",
       "    </tr>\n",
       "    <tr>\n",
       "      <th>1</th>\n",
       "      <td>Lauryn Paige Fuller</td>\n",
       "      <td>NaN</td>\n",
       "      <td>1999-01-09</td>\n",
       "      <td>Austin, Texas</td>\n",
       "      <td>USA</td>\n",
       "      <td>Us</td>\n",
       "      <td>30.264979</td>\n",
       "      <td>-97.746598</td>\n",
       "      <td>Violence</td>\n",
       "      <td>Stabbed</td>\n",
       "      <td>1999</td>\n",
       "      <td>15</td>\n",
       "      <td>604</td>\n",
       "      <td>14</td>\n",
       "      <td>14</td>\n",
       "      <td>1</td>\n",
       "      <td>NaN</td>\n",
       "      <td>NaN</td>\n",
       "      <td>93.3</td>\n",
       "    </tr>\n",
       "    <tr>\n",
       "      <th>2</th>\n",
       "      <td>Robert Eads</td>\n",
       "      <td>1945-12-18</td>\n",
       "      <td>1999-01-17</td>\n",
       "      <td>Atlanta, Georgia</td>\n",
       "      <td>USA</td>\n",
       "      <td>Us</td>\n",
       "      <td>33.748547</td>\n",
       "      <td>-84.391502</td>\n",
       "      <td>Medical</td>\n",
       "      <td>Cancer</td>\n",
       "      <td>1999</td>\n",
       "      <td>15</td>\n",
       "      <td>604</td>\n",
       "      <td>14</td>\n",
       "      <td>1</td>\n",
       "      <td>1</td>\n",
       "      <td>1945.0</td>\n",
       "      <td>54.0</td>\n",
       "      <td>6.7</td>\n",
       "    </tr>\n",
       "    <tr>\n",
       "      <th>3</th>\n",
       "      <td>S. D. Garcia</td>\n",
       "      <td>1964-08-03</td>\n",
       "      <td>1999-02-06</td>\n",
       "      <td>Houston, Texas</td>\n",
       "      <td>USA</td>\n",
       "      <td>Us</td>\n",
       "      <td>29.755008</td>\n",
       "      <td>-95.390479</td>\n",
       "      <td>Violence</td>\n",
       "      <td>Shot</td>\n",
       "      <td>1999</td>\n",
       "      <td>15</td>\n",
       "      <td>604</td>\n",
       "      <td>14</td>\n",
       "      <td>14</td>\n",
       "      <td>4</td>\n",
       "      <td>1964.0</td>\n",
       "      <td>35.0</td>\n",
       "      <td>93.3</td>\n",
       "    </tr>\n",
       "    <tr>\n",
       "      <th>4</th>\n",
       "      <td>Chris Muzett (Eddie Matthews)</td>\n",
       "      <td>NaN</td>\n",
       "      <td>1999-02-20</td>\n",
       "      <td>Detroit, Michigan</td>\n",
       "      <td>USA</td>\n",
       "      <td>Us</td>\n",
       "      <td>42.332916</td>\n",
       "      <td>-83.047853</td>\n",
       "      <td>Violence</td>\n",
       "      <td>Strangled</td>\n",
       "      <td>1999</td>\n",
       "      <td>15</td>\n",
       "      <td>604</td>\n",
       "      <td>14</td>\n",
       "      <td>14</td>\n",
       "      <td>2</td>\n",
       "      <td>NaN</td>\n",
       "      <td>NaN</td>\n",
       "      <td>93.3</td>\n",
       "    </tr>\n",
       "    <tr>\n",
       "      <th>...</th>\n",
       "      <td>...</td>\n",
       "      <td>...</td>\n",
       "      <td>...</td>\n",
       "      <td>...</td>\n",
       "      <td>...</td>\n",
       "      <td>...</td>\n",
       "      <td>...</td>\n",
       "      <td>...</td>\n",
       "      <td>...</td>\n",
       "      <td>...</td>\n",
       "      <td>...</td>\n",
       "      <td>...</td>\n",
       "      <td>...</td>\n",
       "      <td>...</td>\n",
       "      <td>...</td>\n",
       "      <td>...</td>\n",
       "      <td>...</td>\n",
       "      <td>...</td>\n",
       "      <td>...</td>\n",
       "    </tr>\n",
       "    <tr>\n",
       "      <th>4627</th>\n",
       "      <td>Rauany</td>\n",
       "      <td>NaN</td>\n",
       "      <td>2022-09-28</td>\n",
       "      <td>Caldas Brandão, Paraíba</td>\n",
       "      <td>Brazil</td>\n",
       "      <td>Br</td>\n",
       "      <td>-7.168014</td>\n",
       "      <td>-35.491819</td>\n",
       "      <td>Violence</td>\n",
       "      <td>Shot</td>\n",
       "      <td>2022</td>\n",
       "      <td>307</td>\n",
       "      <td>1798</td>\n",
       "      <td>87</td>\n",
       "      <td>230</td>\n",
       "      <td>100</td>\n",
       "      <td>NaN</td>\n",
       "      <td>NaN</td>\n",
       "      <td>74.9</td>\n",
       "    </tr>\n",
       "    <tr>\n",
       "      <th>4628</th>\n",
       "      <td>Isabella Álvarez (\"\"Bella\"\")</td>\n",
       "      <td>NaN</td>\n",
       "      <td>2022-09-29</td>\n",
       "      <td>León, Guanajuato</td>\n",
       "      <td>Mexico</td>\n",
       "      <td>Mx</td>\n",
       "      <td>21.120953</td>\n",
       "      <td>-101.673347</td>\n",
       "      <td>Violence</td>\n",
       "      <td>Strangled</td>\n",
       "      <td>2022</td>\n",
       "      <td>307</td>\n",
       "      <td>616</td>\n",
       "      <td>45</td>\n",
       "      <td>230</td>\n",
       "      <td>11</td>\n",
       "      <td>NaN</td>\n",
       "      <td>NaN</td>\n",
       "      <td>74.9</td>\n",
       "    </tr>\n",
       "    <tr>\n",
       "      <th>4629</th>\n",
       "      <td>Rosa Salvaje</td>\n",
       "      <td>NaN</td>\n",
       "      <td>2022-09-29</td>\n",
       "      <td>Pinotepa Nacional, Oaxaca</td>\n",
       "      <td>Mexico</td>\n",
       "      <td>Mx</td>\n",
       "      <td>16.338488</td>\n",
       "      <td>-98.067595</td>\n",
       "      <td>Violence</td>\n",
       "      <td>Shot</td>\n",
       "      <td>2022</td>\n",
       "      <td>307</td>\n",
       "      <td>616</td>\n",
       "      <td>45</td>\n",
       "      <td>230</td>\n",
       "      <td>100</td>\n",
       "      <td>NaN</td>\n",
       "      <td>NaN</td>\n",
       "      <td>74.9</td>\n",
       "    </tr>\n",
       "    <tr>\n",
       "      <th>4630</th>\n",
       "      <td>Valeria</td>\n",
       "      <td>NaN</td>\n",
       "      <td>2022-09-29</td>\n",
       "      <td>Almoloya de Juárez, Estado de Mexico</td>\n",
       "      <td>Mexico</td>\n",
       "      <td>Mx</td>\n",
       "      <td>19.444354</td>\n",
       "      <td>-99.741916</td>\n",
       "      <td>Violence</td>\n",
       "      <td>Shot</td>\n",
       "      <td>2022</td>\n",
       "      <td>307</td>\n",
       "      <td>616</td>\n",
       "      <td>45</td>\n",
       "      <td>230</td>\n",
       "      <td>100</td>\n",
       "      <td>NaN</td>\n",
       "      <td>NaN</td>\n",
       "      <td>74.9</td>\n",
       "    </tr>\n",
       "    <tr>\n",
       "      <th>4631</th>\n",
       "      <td>Nila</td>\n",
       "      <td>NaN</td>\n",
       "      <td>2022-09-30</td>\n",
       "      <td>Dhaka</td>\n",
       "      <td>Bangladesh</td>\n",
       "      <td>Bd</td>\n",
       "      <td>23.743670</td>\n",
       "      <td>90.391476</td>\n",
       "      <td>Violence</td>\n",
       "      <td>Stabbed</td>\n",
       "      <td>2022</td>\n",
       "      <td>307</td>\n",
       "      <td>5</td>\n",
       "      <td>2</td>\n",
       "      <td>230</td>\n",
       "      <td>54</td>\n",
       "      <td>NaN</td>\n",
       "      <td>NaN</td>\n",
       "      <td>74.9</td>\n",
       "    </tr>\n",
       "  </tbody>\n",
       "</table>\n",
       "<p>4632 rows × 19 columns</p>\n",
       "</div>"
      ],
      "text/plain": [
       "                               Name   Birthdate        Date  \\\n",
       "0                       Rita Hester  1963-11-30  1998-11-28   \n",
       "1               Lauryn Paige Fuller         NaN  1999-01-09   \n",
       "2                       Robert Eads  1945-12-18  1999-01-17   \n",
       "3                      S. D. Garcia  1964-08-03  1999-02-06   \n",
       "4     Chris Muzett (Eddie Matthews)         NaN  1999-02-20   \n",
       "...                             ...         ...         ...   \n",
       "4627                         Rauany         NaN  2022-09-28   \n",
       "4628   Isabella Álvarez (\"\"Bella\"\")         NaN  2022-09-29   \n",
       "4629                   Rosa Salvaje         NaN  2022-09-29   \n",
       "4630                        Valeria         NaN  2022-09-29   \n",
       "4631                           Nila         NaN  2022-09-30   \n",
       "\n",
       "                                  Location     Country Country_Code  \\\n",
       "0                    Boston, Massachusetts         USA           Us   \n",
       "1                            Austin, Texas         USA           Us   \n",
       "2                         Atlanta, Georgia         USA           Us   \n",
       "3                           Houston, Texas         USA           Us   \n",
       "4                        Detroit, Michigan         USA           Us   \n",
       "...                                    ...         ...          ...   \n",
       "4627               Caldas Brandão, Paraíba      Brazil           Br   \n",
       "4628                      León, Guanajuato      Mexico           Mx   \n",
       "4629             Pinotepa Nacional, Oaxaca      Mexico           Mx   \n",
       "4630  Almoloya de Juárez, Estado de Mexico      Mexico           Mx   \n",
       "4631                                 Dhaka  Bangladesh           Bd   \n",
       "\n",
       "       Latitude   Longitude  Category Cause_of_the_death  year  \\\n",
       "0     42.358894  -71.056742  Violence            Stabbed  1998   \n",
       "1     30.264979  -97.746598  Violence            Stabbed  1999   \n",
       "2     33.748547  -84.391502   Medical             Cancer  1999   \n",
       "3     29.755008  -95.390479  Violence               Shot  1999   \n",
       "4     42.332916  -83.047853  Violence          Strangled  1999   \n",
       "...         ...         ...       ...                ...   ...   \n",
       "4627  -7.168014  -35.491819  Violence               Shot  2022   \n",
       "4628  21.120953 -101.673347  Violence          Strangled  2022   \n",
       "4629  16.338488  -98.067595  Violence               Shot  2022   \n",
       "4630  19.444354  -99.741916  Violence               Shot  2022   \n",
       "4631  23.743670   90.391476  Violence            Stabbed  2022   \n",
       "\n",
       "      nb_victims_year  nb_victims_country  nb_victims_country_year  \\\n",
       "0                   1                 604                        1   \n",
       "1                  15                 604                       14   \n",
       "2                  15                 604                       14   \n",
       "3                  15                 604                       14   \n",
       "4                  15                 604                       14   \n",
       "...               ...                 ...                      ...   \n",
       "4627              307                1798                       87   \n",
       "4628              307                 616                       45   \n",
       "4629              307                 616                       45   \n",
       "4630              307                 616                       45   \n",
       "4631              307                   5                        2   \n",
       "\n",
       "      nb_victims_Category_year  nb_victims_cause_year  year_birthdays   age  \\\n",
       "0                            1                      1          1963.0  35.0   \n",
       "1                           14                      1             NaN   NaN   \n",
       "2                            1                      1          1945.0  54.0   \n",
       "3                           14                      4          1964.0  35.0   \n",
       "4                           14                      2             NaN   NaN   \n",
       "...                        ...                    ...             ...   ...   \n",
       "4627                       230                    100             NaN   NaN   \n",
       "4628                       230                     11             NaN   NaN   \n",
       "4629                       230                    100             NaN   NaN   \n",
       "4630                       230                    100             NaN   NaN   \n",
       "4631                       230                     54             NaN   NaN   \n",
       "\n",
       "      percentage_category  \n",
       "0                   100.0  \n",
       "1                    93.3  \n",
       "2                     6.7  \n",
       "3                    93.3  \n",
       "4                    93.3  \n",
       "...                   ...  \n",
       "4627                 74.9  \n",
       "4628                 74.9  \n",
       "4629                 74.9  \n",
       "4630                 74.9  \n",
       "4631                 74.9  \n",
       "\n",
       "[4632 rows x 19 columns]"
      ]
     },
     "execution_count": 31,
     "metadata": {},
     "output_type": "execute_result"
    }
   ],
   "source": [
    "tdor_data"
   ]
  },
  {
   "cell_type": "code",
   "execution_count": 40,
   "metadata": {},
   "outputs": [
    {
     "name": "stderr",
     "output_type": "stream",
     "text": [
      "/var/folders/vh/yn_93j315gn6jdvz7f2d73_m0000gn/T/ipykernel_72655/3779191123.py:2: FutureWarning: The default value of numeric_only in DataFrame.corr is deprecated. In a future version, it will default to False. Select only valid columns or specify the value of numeric_only to silence this warning.\n",
      "  corr_matrix = df_new.corr()\n"
     ]
    },
    {
     "data": {
      "application/vnd.plotly.v1+json": {
       "config": {
        "plotlyServerURL": "https://plot.ly"
       },
       "data": [
        {
         "coloraxis": "coloraxis",
         "hovertemplate": "x: %{x}<br>y: %{y}<br>color: %{z}<extra></extra>",
         "name": "0",
         "type": "heatmap",
         "x": [
          "year",
          "nb_victims_Category_year"
         ],
         "xaxis": "x",
         "y": [
          "year",
          "nb_victims_Category_year"
         ],
         "yaxis": "y",
         "z": [
          [
           1,
           0.43656715842977634
          ],
          [
           0.43656715842977634,
           1
          ]
         ]
        }
       ],
       "layout": {
        "coloraxis": {
         "colorscale": [
          [
           0,
           "#0d0887"
          ],
          [
           0.1111111111111111,
           "#46039f"
          ],
          [
           0.2222222222222222,
           "#7201a8"
          ],
          [
           0.3333333333333333,
           "#9c179e"
          ],
          [
           0.4444444444444444,
           "#bd3786"
          ],
          [
           0.5555555555555556,
           "#d8576b"
          ],
          [
           0.6666666666666666,
           "#ed7953"
          ],
          [
           0.7777777777777778,
           "#fb9f3a"
          ],
          [
           0.8888888888888888,
           "#fdca26"
          ],
          [
           1,
           "#f0f921"
          ]
         ]
        },
        "margin": {
         "t": 60
        },
        "template": {
         "data": {
          "bar": [
           {
            "error_x": {
             "color": "#2a3f5f"
            },
            "error_y": {
             "color": "#2a3f5f"
            },
            "marker": {
             "line": {
              "color": "#E5ECF6",
              "width": 0.5
             },
             "pattern": {
              "fillmode": "overlay",
              "size": 10,
              "solidity": 0.2
             }
            },
            "type": "bar"
           }
          ],
          "barpolar": [
           {
            "marker": {
             "line": {
              "color": "#E5ECF6",
              "width": 0.5
             },
             "pattern": {
              "fillmode": "overlay",
              "size": 10,
              "solidity": 0.2
             }
            },
            "type": "barpolar"
           }
          ],
          "carpet": [
           {
            "aaxis": {
             "endlinecolor": "#2a3f5f",
             "gridcolor": "white",
             "linecolor": "white",
             "minorgridcolor": "white",
             "startlinecolor": "#2a3f5f"
            },
            "baxis": {
             "endlinecolor": "#2a3f5f",
             "gridcolor": "white",
             "linecolor": "white",
             "minorgridcolor": "white",
             "startlinecolor": "#2a3f5f"
            },
            "type": "carpet"
           }
          ],
          "choropleth": [
           {
            "colorbar": {
             "outlinewidth": 0,
             "ticks": ""
            },
            "type": "choropleth"
           }
          ],
          "contour": [
           {
            "colorbar": {
             "outlinewidth": 0,
             "ticks": ""
            },
            "colorscale": [
             [
              0,
              "#0d0887"
             ],
             [
              0.1111111111111111,
              "#46039f"
             ],
             [
              0.2222222222222222,
              "#7201a8"
             ],
             [
              0.3333333333333333,
              "#9c179e"
             ],
             [
              0.4444444444444444,
              "#bd3786"
             ],
             [
              0.5555555555555556,
              "#d8576b"
             ],
             [
              0.6666666666666666,
              "#ed7953"
             ],
             [
              0.7777777777777778,
              "#fb9f3a"
             ],
             [
              0.8888888888888888,
              "#fdca26"
             ],
             [
              1,
              "#f0f921"
             ]
            ],
            "type": "contour"
           }
          ],
          "contourcarpet": [
           {
            "colorbar": {
             "outlinewidth": 0,
             "ticks": ""
            },
            "type": "contourcarpet"
           }
          ],
          "heatmap": [
           {
            "colorbar": {
             "outlinewidth": 0,
             "ticks": ""
            },
            "colorscale": [
             [
              0,
              "#0d0887"
             ],
             [
              0.1111111111111111,
              "#46039f"
             ],
             [
              0.2222222222222222,
              "#7201a8"
             ],
             [
              0.3333333333333333,
              "#9c179e"
             ],
             [
              0.4444444444444444,
              "#bd3786"
             ],
             [
              0.5555555555555556,
              "#d8576b"
             ],
             [
              0.6666666666666666,
              "#ed7953"
             ],
             [
              0.7777777777777778,
              "#fb9f3a"
             ],
             [
              0.8888888888888888,
              "#fdca26"
             ],
             [
              1,
              "#f0f921"
             ]
            ],
            "type": "heatmap"
           }
          ],
          "heatmapgl": [
           {
            "colorbar": {
             "outlinewidth": 0,
             "ticks": ""
            },
            "colorscale": [
             [
              0,
              "#0d0887"
             ],
             [
              0.1111111111111111,
              "#46039f"
             ],
             [
              0.2222222222222222,
              "#7201a8"
             ],
             [
              0.3333333333333333,
              "#9c179e"
             ],
             [
              0.4444444444444444,
              "#bd3786"
             ],
             [
              0.5555555555555556,
              "#d8576b"
             ],
             [
              0.6666666666666666,
              "#ed7953"
             ],
             [
              0.7777777777777778,
              "#fb9f3a"
             ],
             [
              0.8888888888888888,
              "#fdca26"
             ],
             [
              1,
              "#f0f921"
             ]
            ],
            "type": "heatmapgl"
           }
          ],
          "histogram": [
           {
            "marker": {
             "pattern": {
              "fillmode": "overlay",
              "size": 10,
              "solidity": 0.2
             }
            },
            "type": "histogram"
           }
          ],
          "histogram2d": [
           {
            "colorbar": {
             "outlinewidth": 0,
             "ticks": ""
            },
            "colorscale": [
             [
              0,
              "#0d0887"
             ],
             [
              0.1111111111111111,
              "#46039f"
             ],
             [
              0.2222222222222222,
              "#7201a8"
             ],
             [
              0.3333333333333333,
              "#9c179e"
             ],
             [
              0.4444444444444444,
              "#bd3786"
             ],
             [
              0.5555555555555556,
              "#d8576b"
             ],
             [
              0.6666666666666666,
              "#ed7953"
             ],
             [
              0.7777777777777778,
              "#fb9f3a"
             ],
             [
              0.8888888888888888,
              "#fdca26"
             ],
             [
              1,
              "#f0f921"
             ]
            ],
            "type": "histogram2d"
           }
          ],
          "histogram2dcontour": [
           {
            "colorbar": {
             "outlinewidth": 0,
             "ticks": ""
            },
            "colorscale": [
             [
              0,
              "#0d0887"
             ],
             [
              0.1111111111111111,
              "#46039f"
             ],
             [
              0.2222222222222222,
              "#7201a8"
             ],
             [
              0.3333333333333333,
              "#9c179e"
             ],
             [
              0.4444444444444444,
              "#bd3786"
             ],
             [
              0.5555555555555556,
              "#d8576b"
             ],
             [
              0.6666666666666666,
              "#ed7953"
             ],
             [
              0.7777777777777778,
              "#fb9f3a"
             ],
             [
              0.8888888888888888,
              "#fdca26"
             ],
             [
              1,
              "#f0f921"
             ]
            ],
            "type": "histogram2dcontour"
           }
          ],
          "mesh3d": [
           {
            "colorbar": {
             "outlinewidth": 0,
             "ticks": ""
            },
            "type": "mesh3d"
           }
          ],
          "parcoords": [
           {
            "line": {
             "colorbar": {
              "outlinewidth": 0,
              "ticks": ""
             }
            },
            "type": "parcoords"
           }
          ],
          "pie": [
           {
            "automargin": true,
            "type": "pie"
           }
          ],
          "scatter": [
           {
            "fillpattern": {
             "fillmode": "overlay",
             "size": 10,
             "solidity": 0.2
            },
            "type": "scatter"
           }
          ],
          "scatter3d": [
           {
            "line": {
             "colorbar": {
              "outlinewidth": 0,
              "ticks": ""
             }
            },
            "marker": {
             "colorbar": {
              "outlinewidth": 0,
              "ticks": ""
             }
            },
            "type": "scatter3d"
           }
          ],
          "scattercarpet": [
           {
            "marker": {
             "colorbar": {
              "outlinewidth": 0,
              "ticks": ""
             }
            },
            "type": "scattercarpet"
           }
          ],
          "scattergeo": [
           {
            "marker": {
             "colorbar": {
              "outlinewidth": 0,
              "ticks": ""
             }
            },
            "type": "scattergeo"
           }
          ],
          "scattergl": [
           {
            "marker": {
             "colorbar": {
              "outlinewidth": 0,
              "ticks": ""
             }
            },
            "type": "scattergl"
           }
          ],
          "scattermapbox": [
           {
            "marker": {
             "colorbar": {
              "outlinewidth": 0,
              "ticks": ""
             }
            },
            "type": "scattermapbox"
           }
          ],
          "scatterpolar": [
           {
            "marker": {
             "colorbar": {
              "outlinewidth": 0,
              "ticks": ""
             }
            },
            "type": "scatterpolar"
           }
          ],
          "scatterpolargl": [
           {
            "marker": {
             "colorbar": {
              "outlinewidth": 0,
              "ticks": ""
             }
            },
            "type": "scatterpolargl"
           }
          ],
          "scatterternary": [
           {
            "marker": {
             "colorbar": {
              "outlinewidth": 0,
              "ticks": ""
             }
            },
            "type": "scatterternary"
           }
          ],
          "surface": [
           {
            "colorbar": {
             "outlinewidth": 0,
             "ticks": ""
            },
            "colorscale": [
             [
              0,
              "#0d0887"
             ],
             [
              0.1111111111111111,
              "#46039f"
             ],
             [
              0.2222222222222222,
              "#7201a8"
             ],
             [
              0.3333333333333333,
              "#9c179e"
             ],
             [
              0.4444444444444444,
              "#bd3786"
             ],
             [
              0.5555555555555556,
              "#d8576b"
             ],
             [
              0.6666666666666666,
              "#ed7953"
             ],
             [
              0.7777777777777778,
              "#fb9f3a"
             ],
             [
              0.8888888888888888,
              "#fdca26"
             ],
             [
              1,
              "#f0f921"
             ]
            ],
            "type": "surface"
           }
          ],
          "table": [
           {
            "cells": {
             "fill": {
              "color": "#EBF0F8"
             },
             "line": {
              "color": "white"
             }
            },
            "header": {
             "fill": {
              "color": "#C8D4E3"
             },
             "line": {
              "color": "white"
             }
            },
            "type": "table"
           }
          ]
         },
         "layout": {
          "annotationdefaults": {
           "arrowcolor": "#2a3f5f",
           "arrowhead": 0,
           "arrowwidth": 1
          },
          "autotypenumbers": "strict",
          "coloraxis": {
           "colorbar": {
            "outlinewidth": 0,
            "ticks": ""
           }
          },
          "colorscale": {
           "diverging": [
            [
             0,
             "#8e0152"
            ],
            [
             0.1,
             "#c51b7d"
            ],
            [
             0.2,
             "#de77ae"
            ],
            [
             0.3,
             "#f1b6da"
            ],
            [
             0.4,
             "#fde0ef"
            ],
            [
             0.5,
             "#f7f7f7"
            ],
            [
             0.6,
             "#e6f5d0"
            ],
            [
             0.7,
             "#b8e186"
            ],
            [
             0.8,
             "#7fbc41"
            ],
            [
             0.9,
             "#4d9221"
            ],
            [
             1,
             "#276419"
            ]
           ],
           "sequential": [
            [
             0,
             "#0d0887"
            ],
            [
             0.1111111111111111,
             "#46039f"
            ],
            [
             0.2222222222222222,
             "#7201a8"
            ],
            [
             0.3333333333333333,
             "#9c179e"
            ],
            [
             0.4444444444444444,
             "#bd3786"
            ],
            [
             0.5555555555555556,
             "#d8576b"
            ],
            [
             0.6666666666666666,
             "#ed7953"
            ],
            [
             0.7777777777777778,
             "#fb9f3a"
            ],
            [
             0.8888888888888888,
             "#fdca26"
            ],
            [
             1,
             "#f0f921"
            ]
           ],
           "sequentialminus": [
            [
             0,
             "#0d0887"
            ],
            [
             0.1111111111111111,
             "#46039f"
            ],
            [
             0.2222222222222222,
             "#7201a8"
            ],
            [
             0.3333333333333333,
             "#9c179e"
            ],
            [
             0.4444444444444444,
             "#bd3786"
            ],
            [
             0.5555555555555556,
             "#d8576b"
            ],
            [
             0.6666666666666666,
             "#ed7953"
            ],
            [
             0.7777777777777778,
             "#fb9f3a"
            ],
            [
             0.8888888888888888,
             "#fdca26"
            ],
            [
             1,
             "#f0f921"
            ]
           ]
          },
          "colorway": [
           "#636efa",
           "#EF553B",
           "#00cc96",
           "#ab63fa",
           "#FFA15A",
           "#19d3f3",
           "#FF6692",
           "#B6E880",
           "#FF97FF",
           "#FECB52"
          ],
          "font": {
           "color": "#2a3f5f"
          },
          "geo": {
           "bgcolor": "white",
           "lakecolor": "white",
           "landcolor": "#E5ECF6",
           "showlakes": true,
           "showland": true,
           "subunitcolor": "white"
          },
          "hoverlabel": {
           "align": "left"
          },
          "hovermode": "closest",
          "mapbox": {
           "style": "light"
          },
          "paper_bgcolor": "white",
          "plot_bgcolor": "#E5ECF6",
          "polar": {
           "angularaxis": {
            "gridcolor": "white",
            "linecolor": "white",
            "ticks": ""
           },
           "bgcolor": "#E5ECF6",
           "radialaxis": {
            "gridcolor": "white",
            "linecolor": "white",
            "ticks": ""
           }
          },
          "scene": {
           "xaxis": {
            "backgroundcolor": "#E5ECF6",
            "gridcolor": "white",
            "gridwidth": 2,
            "linecolor": "white",
            "showbackground": true,
            "ticks": "",
            "zerolinecolor": "white"
           },
           "yaxis": {
            "backgroundcolor": "#E5ECF6",
            "gridcolor": "white",
            "gridwidth": 2,
            "linecolor": "white",
            "showbackground": true,
            "ticks": "",
            "zerolinecolor": "white"
           },
           "zaxis": {
            "backgroundcolor": "#E5ECF6",
            "gridcolor": "white",
            "gridwidth": 2,
            "linecolor": "white",
            "showbackground": true,
            "ticks": "",
            "zerolinecolor": "white"
           }
          },
          "shapedefaults": {
           "line": {
            "color": "#2a3f5f"
           }
          },
          "ternary": {
           "aaxis": {
            "gridcolor": "white",
            "linecolor": "white",
            "ticks": ""
           },
           "baxis": {
            "gridcolor": "white",
            "linecolor": "white",
            "ticks": ""
           },
           "bgcolor": "#E5ECF6",
           "caxis": {
            "gridcolor": "white",
            "linecolor": "white",
            "ticks": ""
           }
          },
          "title": {
           "x": 0.05
          },
          "xaxis": {
           "automargin": true,
           "gridcolor": "white",
           "linecolor": "white",
           "ticks": "",
           "title": {
            "standoff": 15
           },
           "zerolinecolor": "white",
           "zerolinewidth": 2
          },
          "yaxis": {
           "automargin": true,
           "gridcolor": "white",
           "linecolor": "white",
           "ticks": "",
           "title": {
            "standoff": 15
           },
           "zerolinecolor": "white",
           "zerolinewidth": 2
          }
         }
        },
        "xaxis": {
         "anchor": "y",
         "constrain": "domain",
         "domain": [
          0,
          1
         ],
         "scaleanchor": "y"
        },
        "yaxis": {
         "anchor": "x",
         "autorange": "reversed",
         "constrain": "domain",
         "domain": [
          0,
          1
         ]
        }
       }
      }
     },
     "metadata": {},
     "output_type": "display_data"
    }
   ],
   "source": [
    "df_new = tdor_data[['year', 'Category', 'nb_victims_Category_year']]\n",
    "corr_matrix = df_new.corr()\n",
    "fig = px.imshow(corr_matrix)\n",
    "fig.show()"
   ]
  },
  {
   "cell_type": "code",
   "execution_count": 18,
   "metadata": {},
   "outputs": [
    {
     "ename": "AttributeError",
     "evalue": "'AxesSubplot' object has no attribute 'columns'",
     "output_type": "error",
     "traceback": [
      "\u001b[0;31m---------------------------------------------------------------------------\u001b[0m",
      "\u001b[0;31mAttributeError\u001b[0m                            Traceback (most recent call last)",
      "Cell \u001b[0;32mIn[18], line 1\u001b[0m\n\u001b[0;32m----> 1\u001b[0m fig \u001b[39m=\u001b[39m px\u001b[39m.\u001b[39mimshow(n, x\u001b[39m=\u001b[39mn\u001b[39m.\u001b[39;49mcolumns, y\u001b[39m=\u001b[39mn\u001b[39m.\u001b[39mindex)\n\u001b[1;32m      2\u001b[0m fig\u001b[39m.\u001b[39mupdate_layout(width\u001b[39m=\u001b[39m\u001b[39m500\u001b[39m,height\u001b[39m=\u001b[39m\u001b[39m500\u001b[39m)\n\u001b[1;32m      3\u001b[0m fig\u001b[39m.\u001b[39mshow()\n",
      "\u001b[0;31mAttributeError\u001b[0m: 'AxesSubplot' object has no attribute 'columns'"
     ]
    }
   ],
   "source": [
    "fig = px.imshow(n, x=n.columns, y=n.index)\n",
    "fig.update_layout(width=500,height=500)\n",
    "fig.show()"
   ]
  },
  {
   "cell_type": "code",
   "execution_count": 44,
   "metadata": {},
   "outputs": [],
   "source": [
    "n =tdor_data.pivot_table(index= \"Country_Code\",\n",
    "    columns=  \"year\",\n",
    "    values= \"nb_victims_country_year\")\n"
   ]
  },
  {
   "cell_type": "code",
   "execution_count": 45,
   "metadata": {},
   "outputs": [
    {
     "data": {
      "image/png": "[encoded data removed]",
      "text/plain": [
       "<Figure size 640x480 with 2 Axes>"
      ]
     },
     "metadata": {},
     "output_type": "display_data"
    }
   ],
   "source": [
    "n = sns.heatmap(n,cmap=\"Reds\") "
   ]
  }
 ],
 "metadata": {
  "kernelspec": {
   "display_name": "tdor_env",
   "language": "python",
   "name": "python3"
  },
  "language_info": {
   "codemirror_mode": {
    "name": "ipython",
    "version": 3
   },
   "file_extension": ".py",
   "mimetype": "text/x-python",
   "name": "python",
   "nbconvert_exporter": "python",
   "pygments_lexer": "ipython3",
   "version": "3.10.2"
  },
  "orig_nbformat": 4,
  "vscode": {
   "interpreter": {
    "hash": "4a9aa831be4fa9c9cfc5f00b7cdaa9c4aaecb12051c68e7fc49e3ca03c3d5f3c"
   }
  }
 },
 "nbformat": 4,
 "nbformat_minor": 2
}
